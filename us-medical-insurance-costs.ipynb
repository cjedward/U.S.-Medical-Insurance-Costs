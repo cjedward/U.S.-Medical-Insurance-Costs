{
 "cells": [
  {
   "cell_type": "markdown",
   "metadata": {},
   "source": [
    "# U.S. Medical Insurance Costs"
   ]
  },
  {
   "cell_type": "markdown",
   "metadata": {},
   "source": [
    "**Goal**: To import,  organize and analyze the data to answer real world questions about the correlation between the metrics provided and health insurance cost \n",
    "<br>***Metrics Provided***: Age, Sex, Number of children, Smoker?, Region, and Cummlative insurance charges.\n",
    "<br> ***Analysis***: <br> 1. Which age group has the most smokers?\n",
    "<br>2. Does a higher age influence your insurance charges?\n",
    "<br> 3. Does being a smoker influence your insurance charges?\n"
   ]
  },
  {
   "cell_type": "code",
   "execution_count": 37,
   "metadata": {},
   "outputs": [],
   "source": [
    "#importing required libraries\n",
    "import csv\n",
    "import pandas as pd\n",
    "from pandas import Series, DataFrame\n",
    "import matplotlib.pyplot as plt\n",
    "import numpy as np"
   ]
  },
  {
   "cell_type": "code",
   "execution_count": 38,
   "metadata": {
    "scrolled": true
   },
   "outputs": [
    {
     "name": "stdout",
     "output_type": "stream",
     "text": [
      "      age     sex     bmi  children smoker     region      charges\n",
      "0      19  female  27.900         0    yes  southwest  16884.92400\n",
      "1      18    male  33.770         1     no  southeast   1725.55230\n",
      "2      28    male  33.000         3     no  southeast   4449.46200\n",
      "3      33    male  22.705         0     no  northwest  21984.47061\n",
      "4      32    male  28.880         0     no  northwest   3866.85520\n",
      "...   ...     ...     ...       ...    ...        ...          ...\n",
      "1333   50    male  30.970         3     no  northwest  10600.54830\n",
      "1334   18  female  31.920         0     no  northeast   2205.98080\n",
      "1335   18  female  36.850         0     no  southeast   1629.83350\n",
      "1336   21  female  25.800         0     no  southwest   2007.94500\n",
      "1337   61  female  29.070         0    yes  northwest  29141.36030\n",
      "\n",
      "[1338 rows x 7 columns]\n"
     ]
    }
   ],
   "source": [
    "#display sample rows of insurance.csv\n",
    "insurance = pd.read_csv('insurance.csv')\n",
    "print(insurance)\n",
    "pd."
   ]
  },
  {
   "cell_type": "code",
   "execution_count": 39,
   "metadata": {},
   "outputs": [],
   "source": [
    "# create empty list to store columns from insurance.csv\n",
    "age_strs = []\n",
    "sex_list = []\n",
    "smoker_list = []\n",
    "bmi_strs = []\n",
    "children_strs = []\n",
    "region_list = []\n",
    "charges_strs = []\n",
    "\n",
    "with open(\"insurance.csv\") as insurance_csv:\n",
    "    insurance_file = csv.DictReader(insurance_csv)\n",
    "    \n",
    "    for row in insurance_file:\n",
    "        age_strs.append(row['age'])\n",
    "        smoker_list.append(row['smoker'])\n",
    "        sex_list.append(row['sex'])\n",
    "        region_list.append(row['region'])\n",
    "        children_strs.append(row['children'])\n",
    "        charges_strs.append(row['charges'])\n",
    "        bmi_strs.append(row['bmi'])"
   ]
  },
  {
   "cell_type": "code",
   "execution_count": 40,
   "metadata": {},
   "outputs": [],
   "source": [
    "# converts string elements to nums in list form\n",
    "def convert_list_to_num(str_list):\n",
    "    converted_list = []\n",
    "    for num in str_list:\n",
    "        converted_list.append(float(num))\n",
    "    return converted_list\n"
   ]
  },
  {
   "cell_type": "markdown",
   "metadata": {},
   "source": [
    "Since we will be doing numerical calculations, we should first convert the nessasary list of strings into list of numerical values"
   ]
  },
  {
   "cell_type": "code",
   "execution_count": 41,
   "metadata": {},
   "outputs": [],
   "source": [
    "# create new list of numerical values\n",
    "age_floats = convert_list_to_num(age_strs)\n",
    "bmi_floats = convert_list_to_num(bmi_strs)\n",
    "children_floats = convert_list_to_num(children_strs)\n",
    "charges_floats = convert_list_to_num(charges_strs)"
   ]
  },
  {
   "cell_type": "markdown",
   "metadata": {},
   "source": [
    "Here we begin answering our first question: Which age group has the most smokers? ***(1)***"
   ]
  },
  {
   "cell_type": "code",
   "execution_count": 42,
   "metadata": {},
   "outputs": [],
   "source": [
    "# calculate the number of smokers in each age group: young adults(18-39), middle adults(40-59), older adults(60+)\n",
    "young_count = 0\n",
    "middle_count = 0\n",
    "older_count = 0\n",
    "most_smokers = \"\"\n",
    "total_smokers = 0\n",
    "max = 0\n",
    "\n",
    "for person in range(len(age_floats)):\n",
    "    if age_floats[person] >= 60 and smoker_list[person] == \"yes\":\n",
    "        older_count += 1\n",
    "    elif age_floats[person] in range(40,60) and smoker_list[person] == \"yes\":\n",
    "        middle_count += 1\n",
    "    elif  age_floats[person] in range(18,40) and smoker_list[person] == \"yes\":\n",
    "        young_count += 1\n",
    "total_smokers = older_count + middle_count + young_count"
   ]
  },
  {
   "cell_type": "code",
   "execution_count": 43,
   "metadata": {},
   "outputs": [
    {
     "data": {
      "image/png": "[encoded data removed]",
      "text/plain": [
       "<Figure size 640x480 with 1 Axes>"
      ]
     },
     "metadata": {},
     "output_type": "display_data"
    }
   ],
   "source": [
    "# Determine who had the most smokers\n",
    "if older_count >= young_count and older_count >= middle_count:\n",
    "    max = older_count\n",
    "    most_smokers = \"older adults\"\n",
    "    \n",
    "elif middle_count >= older_count and middle_count >=young_count:\n",
    "    max = middle_count\n",
    "    most_smokers = \"middle adults\"\n",
    "else: max = young_count\n",
    "most_smokers = \"young adults\"\n",
    "percentage = \"{:.2%}\".format(max / total_smokers)\n",
    "\n",
    "\n",
    "# create a bar graph to show number of smokers\n",
    "fig = plt.figure()\n",
    "ax = fig.add_axes([0,0,1,1])\n",
    "x_axis = ['Young Adults', 'Middle Adults', 'Older Adults']\n",
    "y_axis = [young_count, middle_count, older_count]\n",
    "ax.bar(x_axis,y_axis)\n",
    "plt.xlabel(\"Age Groups\")\n",
    "plt.ylabel( 'No. of smokers')\n",
    "plt.title('Number of Smokers Per Age Group')\n",
    "plt.show()"
   ]
  },
  {
   "cell_type": "code",
   "execution_count": 44,
   "metadata": {},
   "outputs": [
    {
     "name": "stdout",
     "output_type": "stream",
     "text": [
      "\"Conclusion: The age group with the most smokers is the young adults with 144 smokers or 52.55% of all smokers.\n",
      "As Shown by the graph above, the number of smokers declined as the age group increased\n"
     ]
    }
   ],
   "source": [
    "print (\"\"\"\"Conclusion: The age group with the most smokers is the {} with {} smokers or {} of all smokers.\n",
    "As Shown by the graph above, the number of smokers declined as the age group increased\"\"\".format(most_smokers, max, percentage))"
   ]
  },
  {
   "cell_type": "markdown",
   "metadata": {},
   "source": [
    " ***2)*** Next, We want to investigate whether a higher age influences your insurance cost.\n",
    "To do so, we'll use the same age ranges used above: _Young Adults(18-39), Middle Adults(40-59), Older Adults(60+)_"
   ]
  },
  {
   "cell_type": "code",
   "execution_count": 45,
   "metadata": {},
   "outputs": [],
   "source": [
    "# Helper function for getting the average of a list of intergers\n",
    "def get_avg(int_list):\n",
    "    sum = 0\n",
    "    for i in int_list:\n",
    "        sum += i\n",
    "    \n",
    "    average = round(sum / len(int_list),2)\n",
    "    return average"
   ]
  },
  {
   "cell_type": "code",
   "execution_count": 46,
   "metadata": {},
   "outputs": [
    {
     "name": "stdout",
     "output_type": "stream",
     "text": [
      "The averages are as follows: \n"
     ]
    }
   ],
   "source": [
    "# calculate the average insurance cost for each age group\n",
    "\n",
    "young_avgs = []\n",
    "middle_avgs = []\n",
    "older_avgs = []\n",
    "\n",
    "for age in range(len(age_floats)):\n",
    "    if age_floats[age] >= 60:\n",
    "        older_avgs.append(charges_floats[age])\n",
    "    elif age_floats[age] in range(40,60):\n",
    "        middle_avgs.append(charges_floats[age])\n",
    "    elif age_floats[age] in range(18,40):\n",
    "        young_avgs.append(charges_floats[age])\n",
    "        \n",
    "# Checks for error in calculations\n",
    "if (len(young_avgs) + len(middle_avgs) + len(older_avgs)) != 1338:\n",
    "    print (\"ERROR in calculating insurance charge averages\")\n",
    "\n",
    "young_avg_charges = get_avg(young_avgs)\n",
    "middle_avg_charges = get_avg(middle_avgs)\n",
    "older_avg_charges = get_avg(older_avgs)\n",
    "\n",
    "print(\"The averages are as follows: \")"
   ]
  },
  {
   "cell_type": "code",
   "execution_count": 47,
   "metadata": {},
   "outputs": [
    {
     "data": {
      "text/html": [
       "<div>\n",
       "<style scoped>\n",
       "    .dataframe tbody tr th:only-of-type {\n",
       "        vertical-align: middle;\n",
       "    }\n",
       "\n",
       "    .dataframe tbody tr th {\n",
       "        vertical-align: top;\n",
       "    }\n",
       "\n",
       "    .dataframe thead th {\n",
       "        text-align: right;\n",
       "    }\n",
       "</style>\n",
       "<table border=\"1\" class=\"dataframe\">\n",
       "  <thead>\n",
       "    <tr style=\"text-align: right;\">\n",
       "      <th></th>\n",
       "      <th>Age Group</th>\n",
       "      <th>Average Charge</th>\n",
       "    </tr>\n",
       "  </thead>\n",
       "  <tbody>\n",
       "    <tr>\n",
       "      <th>0</th>\n",
       "      <td>Young Adults</td>\n",
       "      <td>$10157.22</td>\n",
       "    </tr>\n",
       "    <tr>\n",
       "      <th>1</th>\n",
       "      <td>Middle-Aged Adults</td>\n",
       "      <td>$15431.97</td>\n",
       "    </tr>\n",
       "    <tr>\n",
       "      <th>2</th>\n",
       "      <td>Older Adults</td>\n",
       "      <td>$21248.02</td>\n",
       "    </tr>\n",
       "  </tbody>\n",
       "</table>\n",
       "</div>"
      ],
      "text/plain": [
       "            Age Group Average Charge\n",
       "0        Young Adults      $10157.22\n",
       "1  Middle-Aged Adults      $15431.97\n",
       "2        Older Adults      $21248.02"
      ]
     },
     "execution_count": 47,
     "metadata": {},
     "output_type": "execute_result"
    }
   ],
   "source": [
    "# create a dataframe to display averages\n",
    "\n",
    "averages = [[\"Young Adults\", '$' + str(young_avg_charges)],\n",
    "            [\"Middle-Aged Adults\",'$' + str(middle_avg_charges)], \n",
    "            [\"Older Adults\", '$' + str(older_avg_charges)]]\n",
    "\n",
    "df = pd.DataFrame(averages, columns=['Age Group', 'Average Charge'])\n",
    "df"
   ]
  },
  {
   "cell_type": "markdown",
   "metadata": {},
   "source": [
    "***Conclusion:*** Based on my findings your age does in fact influence your insurance charges. As showning on the table above, there is in uptrending in insurance charges as we move up into higher age groups."
   ]
  },
  {
   "cell_type": "markdown",
   "metadata": {},
   "source": [
    "***3)*** For my final question, I am looking to determine whether smoking increases your insurance charges. To do so, I am analysing the young adult group (18-25) because not only do they possess the least amount of health risk, which would be influential factor to their insurance charges but also between I discovered earlier in this analysis that the young adults have the most smokers."
   ]
  },
  {
   "cell_type": "code",
   "execution_count": 48,
   "metadata": {
    "scrolled": true
   },
   "outputs": [
    {
     "name": "stdout",
     "output_type": "stream",
     "text": [
      "The average insurance for the 65 young adults who smoked was $27933.56\n",
      "The average insurance for the 241 young adults who did not smoke was $4003.92\n"
     ]
    }
   ],
   "source": [
    "# Determine the number of smokers vs non-smokers between ages 18-25\n",
    "yes_count = 0\n",
    "yes_charge_amount = 0\n",
    "no_count = 0\n",
    "no_charge_amount = 0\n",
    "\n",
    "for age in range(len(age_floats)):\n",
    "    if age_floats[age] <= 25:\n",
    "        if smoker_list[age] == \"yes\":\n",
    "            yes_count += 1\n",
    "            yes_charge_amount += charges_floats[age]\n",
    "        else:\n",
    "            no_count += 1\n",
    "            no_charge_amount += charges_floats[age]\n",
    "\n",
    "yes_avg = round(yes_charge_amount / yes_count,2)\n",
    "no_avg = round(no_charge_amount / no_count,2)\n",
    "\n",
    "print(\"The average insurance for the {} young adults who smoked was ${}\".format(yes_count, yes_avg))\n",
    "print(\"The average insurance for the {} young adults who did not smoke was ${}\".format(no_count, no_avg))"
   ]
  },
  {
   "cell_type": "markdown",
   "metadata": {},
   "source": [
    "***Conclusion:*** The young adults who smoked had overwhelming higher insurance charges.\n",
    "    Based on the data, one could infer that smokers are more likely to be sicker and have higher insurance charges or more frequent medical bills. "
   ]
  }
 ],
 "metadata": {
  "kernelspec": {
   "display_name": "Python 3 (ipykernel)",
   "language": "python",
   "name": "python3"
  },
  "language_info": {
   "codemirror_mode": {
    "name": "ipython",
    "version": 3
   },
   "file_extension": ".py",
   "mimetype": "text/x-python",
   "name": "python",
   "nbconvert_exporter": "python",
   "pygments_lexer": "ipython3",
   "version": "3.9.13"
  }
 },
 "nbformat": 4,
 "nbformat_minor": 4
}
